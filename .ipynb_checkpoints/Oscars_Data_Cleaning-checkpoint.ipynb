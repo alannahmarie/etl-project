{
 "cells": [
  {
   "cell_type": "code",
   "execution_count": null,
   "metadata": {},
   "outputs": [],
   "source": [
    "# Dependencies\n",
    "import pandas as pd"
   ]
  },
  {
   "cell_type": "code",
   "execution_count": null,
   "metadata": {},
   "outputs": [],
   "source": [
    "# Store file path in variable\n",
    "oscars_data_file = \"Resources/Oscars-demographics-DFE.csv\""
   ]
  },
  {
   "cell_type": "code",
   "execution_count": null,
   "metadata": {},
   "outputs": [],
   "source": [
    "# Read Data files with the pandas library\n",
    "oscars_df = pd.read_csv(oscars_data_file, encoding = \"ISO-8859-1\")\n",
    "oscars_df.head()"
   ]
  },
  {
   "cell_type": "code",
   "execution_count": null,
   "metadata": {},
   "outputs": [],
   "source": [
    "# Print out Column Titles\n",
    "oscars_df.columns"
   ]
  },
  {
   "cell_type": "code",
   "execution_count": null,
   "metadata": {},
   "outputs": [],
   "source": [
    "# Remove columns not being used for analysis\n",
    "oscars_df.drop(columns = ['_golden', '_unit_state', '_trusted_judgments',\\\n",
    "                          '_last_judgment_at', 'birthplace:confidence',\\\n",
    "                          'date_of_birth:confidence', 'race_ethnicity:confidence',\\\n",
    "                          'religion', 'religion:confidence','sexual_orientation:confidence',\\\n",
    "                          'year_of_award:confidence', 'birthplace_gold', 'date_of_birth_gold',\\\n",
    "                          'race_ethnicity_gold', 'religion_gold', 'sexual_orientation_gold',\\\n",
    "                          'year_of_award_gold'], inplace = True)\n",
    "oscars_df.head()"
   ]
  },
  {
   "cell_type": "code",
   "execution_count": null,
   "metadata": {},
   "outputs": [],
   "source": [
    "oscars_df.rename(columns={'_unit_id': \"award_id\"}, inplace = True)"
   ]
  },
  {
   "cell_type": "code",
   "execution_count": null,
   "metadata": {
    "scrolled": true
   },
   "outputs": [],
   "source": [
    "# Drop records with blank cells\n",
    "oscars_df.dropna(inplace=True)\n",
    "oscars_df.head()"
   ]
  },
  {
   "cell_type": "code",
   "execution_count": null,
   "metadata": {},
   "outputs": [],
   "source": [
    "# Save df to csv file\n",
    "oscars_df.to_csv(\"Resources/oscars_clean.csv\", index = False, header = True)"
   ]
  }
 ],
 "metadata": {
  "kernelspec": {
   "display_name": "Python [conda env:PythonData] *",
   "language": "python",
   "name": "conda-env-PythonData-py"
  },
  "language_info": {
   "codemirror_mode": {
    "name": "ipython",
    "version": 3
   },
   "file_extension": ".py",
   "mimetype": "text/x-python",
   "name": "python",
   "nbconvert_exporter": "python",
   "pygments_lexer": "ipython3",
   "version": "3.6.10"
  }
 },
 "nbformat": 4,
 "nbformat_minor": 4
}
